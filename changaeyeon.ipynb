{
 "cells": [
  {
   "cell_type": "code",
   "execution_count": 1,
   "metadata": {
    "collapsed": true
   },
   "outputs": [],
   "source": [
    "import copy\n",
    "import random\n",
    "\n",
    "import tensorflow as tf\n",
    "import numpy as np\n",
    "from tensorflow.keras import layers, models, callbacks"
   ]
  },
  {
   "cell_type": "code",
   "execution_count": 2,
   "outputs": [],
   "source": [
    "(X_train, y_train), (X_test, y_test) = tf.keras.datasets.mnist.load_data()\n",
    "X_train, X_test = X_train / 255, X_test / 255\n",
    "\n",
    "X_train = X_train.reshape((60000, 28 ,28, 1))\n",
    "X_test = X_test.reshape((10000, 28 ,28, 1))\n",
    "\n",
    "# 과적합시 멈춤\n",
    "early_stopping = callbacks.EarlyStopping(\n",
    "    min_delta=0.001,   # 개선으로 간주되는 최소 변경 크기. 이 값만큼 개선이 없으면 Early Stopping 대상이 됩니다.\n",
    "    patience=10,          # Early Stopping이 실제로 학습을 중지하기 전에 몇 epoch를 기다릴지를 의미합니다.\n",
    "    restore_best_weights=True, # Early Stopping시 이전에 찾은 최적의 가중치값으로 복원합니다.\n",
    ")"
   ],
   "metadata": {
    "collapsed": false
   }
  },
  {
   "cell_type": "code",
   "execution_count": 9,
   "outputs": [],
   "source": [
    "def mnist(learning_late, epochs, batch_size, dense_unit):\n",
    "    model = models.Sequential([\n",
    "        layers.Conv2D(32, kernel_size=(3, 3), strides=(1, 1),\n",
    "                      padding='same', activation='relu', input_shape=(28, 28, 1)),\n",
    "        layers.MaxPooling2D(pool_size=(2, 2), strides=(2, 2)),\n",
    "        layers.Conv2D(64, kernel_size=(3, 3), activation='relu', padding='same'),\n",
    "        layers.MaxPooling2D(padding='same'),\n",
    "        layers.Dropout(0.25),\n",
    "        layers.Flatten(),\n",
    "        layers.Dense(dense_unit, activation='relu'),\n",
    "        layers.Dense(10, activation='softmax')\n",
    "    ])\n",
    "\n",
    "    model.compile(optimizer=tf.keras.optimizers.Adam(learning_late), loss = 'sparse_categorical_crossentropy', metrics=['accuracy'])\n",
    "\n",
    "    hist = model.fit(X_train, y_train, epochs=epochs, verbose = 1, validation_data=(X_test, y_test), batch_size=batch_size, callbacks=[early_stopping])\n",
    "\n",
    "    if len(hist.epoch) < epochs:\n",
    "        return 0\n",
    "\n",
    "    return model.evaluate(X_test, y_test)[1]"
   ],
   "metadata": {
    "collapsed": false
   }
  },
  {
   "cell_type": "code",
   "execution_count": 10,
   "outputs": [
    {
     "name": "stdout",
     "output_type": "stream",
     "text": [
      "Epoch 1/15\n",
      "60/60 [==============================] - 1s 9ms/step - loss: 0.3189 - accuracy: 0.8981 - val_loss: 0.0541 - val_accuracy: 0.9827\n",
      "Epoch 2/15\n",
      "60/60 [==============================] - 0s 7ms/step - loss: 0.0570 - accuracy: 0.9822 - val_loss: 0.0331 - val_accuracy: 0.9891\n",
      "Epoch 3/15\n",
      "60/60 [==============================] - 0s 7ms/step - loss: 0.0372 - accuracy: 0.9884 - val_loss: 0.0301 - val_accuracy: 0.9897\n",
      "Epoch 4/15\n",
      "60/60 [==============================] - 0s 7ms/step - loss: 0.0271 - accuracy: 0.9912 - val_loss: 0.0305 - val_accuracy: 0.9901\n",
      "Epoch 5/15\n",
      "60/60 [==============================] - 0s 7ms/step - loss: 0.0207 - accuracy: 0.9933 - val_loss: 0.0312 - val_accuracy: 0.9896\n",
      "Epoch 6/15\n",
      "60/60 [==============================] - 0s 7ms/step - loss: 0.0184 - accuracy: 0.9940 - val_loss: 0.0232 - val_accuracy: 0.9921\n",
      "Epoch 7/15\n",
      "60/60 [==============================] - 0s 7ms/step - loss: 0.0141 - accuracy: 0.9954 - val_loss: 0.0271 - val_accuracy: 0.9912\n",
      "Epoch 8/15\n",
      "60/60 [==============================] - 0s 7ms/step - loss: 0.0129 - accuracy: 0.9957 - val_loss: 0.0285 - val_accuracy: 0.9917\n",
      "Epoch 9/15\n",
      "60/60 [==============================] - 0s 7ms/step - loss: 0.0098 - accuracy: 0.9963 - val_loss: 0.0238 - val_accuracy: 0.9923\n",
      "Epoch 10/15\n",
      "60/60 [==============================] - 0s 7ms/step - loss: 0.0088 - accuracy: 0.9973 - val_loss: 0.0266 - val_accuracy: 0.9917\n",
      "Epoch 11/15\n",
      "60/60 [==============================] - 0s 7ms/step - loss: 0.0097 - accuracy: 0.9966 - val_loss: 0.0250 - val_accuracy: 0.9924\n",
      "Epoch 12/15\n",
      "60/60 [==============================] - 0s 7ms/step - loss: 0.0106 - accuracy: 0.9966 - val_loss: 0.0287 - val_accuracy: 0.9920\n",
      "Epoch 13/15\n",
      "60/60 [==============================] - 0s 7ms/step - loss: 0.0091 - accuracy: 0.9970 - val_loss: 0.0322 - val_accuracy: 0.9918\n",
      "Epoch 14/15\n",
      "60/60 [==============================] - 0s 7ms/step - loss: 0.0096 - accuracy: 0.9967 - val_loss: 0.0283 - val_accuracy: 0.9910\n",
      "Epoch 15/15\n",
      "60/60 [==============================] - 0s 7ms/step - loss: 0.0063 - accuracy: 0.9979 - val_loss: 0.0276 - val_accuracy: 0.9910\n",
      "313/313 [==============================] - 0s 1ms/step - loss: 0.0276 - accuracy: 0.9910\n"
     ]
    },
    {
     "data": {
      "text/plain": "0.9909999966621399"
     },
     "execution_count": 10,
     "metadata": {},
     "output_type": "execute_result"
    }
   ],
   "source": [
    "mnist(0.005, 15, 1000, 512)"
   ],
   "metadata": {
    "collapsed": false
   }
  },
  {
   "cell_type": "code",
   "execution_count": 11,
   "outputs": [],
   "source": [
    "def crossing(p1, p2):\n",
    "    s = random.randint(1,len(p1)-1)\n",
    "    e = random.randint(s,len(p1)-1)\n",
    "\n",
    "    c = p1[:s] + p2[s:e] + p1[e:]\n",
    "    return c"
   ],
   "metadata": {
    "collapsed": false
   }
  },
  {
   "cell_type": "code",
   "execution_count": null,
   "outputs": [],
   "source": [
    "def mutating(c):"
   ],
   "metadata": {
    "collapsed": false
   }
  }
 ],
 "metadata": {
  "kernelspec": {
   "display_name": "Python 3",
   "language": "python",
   "name": "python3"
  },
  "language_info": {
   "codemirror_mode": {
    "name": "ipython",
    "version": 2
   },
   "file_extension": ".py",
   "mimetype": "text/x-python",
   "name": "python",
   "nbconvert_exporter": "python",
   "pygments_lexer": "ipython2",
   "version": "2.7.6"
  }
 },
 "nbformat": 4,
 "nbformat_minor": 0
}
